{
  "nbformat": 4,
  "nbformat_minor": 0,
  "metadata": {
    "colab": {
      "provenance": []
    },
    "kernelspec": {
      "name": "python3",
      "display_name": "Python 3"
    },
    "language_info": {
      "name": "python"
    }
  },
  "cells": [
    {
      "cell_type": "code",
      "execution_count": 4,
      "metadata": {
        "colab": {
          "base_uri": "https://localhost:8080/"
        },
        "id": "ABHGz9Jj-JZb",
        "outputId": "91d22401-0a65-48cd-f045-0622066c5855"
      },
      "outputs": [
        {
          "output_type": "stream",
          "name": "stdout",
          "text": [
            "[(5.178333386499999, 2.7665845055177263, 10), (2.9984683241, 1.218556343617447, 10)]\n"
          ]
        }
      ],
      "source": [
        "from math import sqrt\n",
        "\n",
        "#hitung rata-rata dari daftar \n",
        "\n",
        "def rata_rata (no):\n",
        "  return sum(no)/float(len(no))\n",
        "\n",
        "def standar_deviasi(no):\n",
        "  avg = rata_rata(no)\n",
        "  variant = sum([(X-avg)**2 for X in no]) / float(len(no)-1)\n",
        "  return sqrt(variant)\n",
        "\n",
        "def ringkasan_data(dataset):\n",
        "  ringkasan = [(rata_rata(column), standar_deviasi(column), len(column)) for column in zip(*dataset)]\n",
        "  del(ringkasan[-1])\n",
        "  return ringkasan\n",
        "\n",
        "dataset = [[3.393533211,2.331273381,0],\n",
        "\t[3.110073483,1.781539638,0],\n",
        "\t[1.343808831,3.368360954,0],\n",
        "\t[3.582294042,4.67917911,0],\n",
        "\t[2.280362439,2.866990263,0],\n",
        "\t[7.423436942,4.696522875,1],\n",
        "\t[5.745051997,3.533989803,1],\n",
        "\t[9.172168622,2.511101045,1],\n",
        "\t[7.792783481,3.424088941,1],\n",
        "\t[7.939820817,0.791637231,1]]\n",
        "\n",
        "ringkas = ringkasan_data(dataset)\n",
        "print(ringkas)"
      ]
    }
  ]
}